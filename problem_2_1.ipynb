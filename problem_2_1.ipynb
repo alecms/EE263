{
 "metadata": {
  "name": "",
  "signature": "sha256:529eeea763f2a7187f079c28439539b6ec159a24625a1fac2309e5fd4edf1850"
 },
 "nbformat": 3,
 "nbformat_minor": 0,
 "worksheets": [
  {
   "cells": [
    {
     "cell_type": "code",
     "collapsed": false,
     "input": [
      "import problem_2_1\n",
      "reload(problem_2_1)"
     ],
     "language": "python",
     "metadata": {},
     "outputs": [
      {
       "metadata": {},
       "output_type": "pyout",
       "prompt_number": 4,
       "text": [
        "<module 'problem_2_1' from 'problem_2_1.pyc'>"
       ]
      }
     ],
     "prompt_number": 4
    },
    {
     "cell_type": "code",
     "collapsed": false,
     "input": [
      "number_of_epochs = 10\n",
      "epoch_range = range(number_of_epochs)"
     ],
     "language": "python",
     "metadata": {},
     "outputs": [],
     "prompt_number": 5
    },
    {
     "cell_type": "code",
     "collapsed": false,
     "input": [
      "import problem_2_1\n",
      "phistory = problem_2_1.findPhistory(number_of_epochs)\n",
      "print phistory"
     ],
     "language": "python",
     "metadata": {},
     "outputs": [
      {
       "output_type": "stream",
       "stream": "stdout",
       "text": [
        "[[ 0.          5.64        6.392       6.533       6.55587333  6.55980567\n",
        "   6.56046576  6.56057764  6.56059653  6.56059973]\n",
        " [ 0.          2.82        3.196       3.2665      3.27793667  3.27990283\n",
        "   3.28023288  3.28028882  3.28029827  3.28029986]\n",
        " [ 0.          1.88        2.538       2.62573333  2.64218333  2.64485189\n",
        "   2.64531066  2.64538767  2.64540072  2.64540293]]\n"
       ]
      }
     ],
     "prompt_number": 6
    },
    {
     "cell_type": "code",
     "collapsed": false,
     "input": [
      "sinr_history = problem_2_1.findSinrHistory(phistory)"
     ],
     "language": "python",
     "metadata": {},
     "outputs": [
      {
       "output_type": "stream",
       "stream": "stdout",
       "text": [
        "0.0\n",
        "0.0\n",
        "0.0\n",
        "0.752\n",
        "0.752\n",
        "1.974\n",
        "0.893\n",
        "0.893\n",
        "2.2372\n",
        "0.915873333333\n",
        "0.915873333333\n",
        "2.28655\n",
        "0.919805666667\n",
        "0.919805666667\n",
        "2.29455566667\n",
        "0.920465755556\n",
        "0.920465755556\n",
        "2.29593198333\n",
        "0.920577641667\n",
        "0.920577641667\n",
        "2.29616301444\n",
        "0.920596531315\n",
        "0.920596531315\n",
        "2.29620217458\n",
        "0.920599725618\n",
        "0.920599725618\n",
        "2.29620878596\n",
        "0.920600265427\n",
        "0.920600265427\n",
        "2.29620990397\n"
       ]
      }
     ],
     "prompt_number": 7
    },
    {
     "cell_type": "code",
     "collapsed": false,
     "input": [
      "sinr_history"
     ],
     "language": "python",
     "metadata": {},
     "outputs": [
      {
       "metadata": {},
       "output_type": "pyout",
       "prompt_number": 8,
       "text": [
        "array([[ 0.        ,  7.4015748 ,  7.0786268 ,  7.05604078,  7.0507995 ,\n",
        "         7.05002374,  7.04988543,  7.04986256,  7.04985866,  7.049858  ],\n",
        "       [ 0.        ,  7.4015748 ,  7.0786268 ,  7.05604078,  7.0507995 ,\n",
        "         7.05002374,  7.04988543,  7.04986256,  7.04985866,  7.049858  ],\n",
        "       [ 0.        ,  2.84274194,  3.38821645,  3.43001459,  3.43951336,\n",
        "         3.44093222,  3.44118431,  3.44122606,  3.44123317,  3.44123437]])"
       ]
      }
     ],
     "prompt_number": 8
    },
    {
     "cell_type": "code",
     "collapsed": false,
     "input": [
      "p = phistory[:,1]"
     ],
     "language": "python",
     "metadata": {},
     "outputs": [],
     "prompt_number": 10
    },
    {
     "cell_type": "code",
     "collapsed": false,
     "input": [
      "print p"
     ],
     "language": "python",
     "metadata": {},
     "outputs": [
      {
       "output_type": "stream",
       "stream": "stdout",
       "text": [
        "[ 5.64  2.82  1.88]\n"
       ]
      }
     ],
     "prompt_number": 11
    },
    {
     "cell_type": "code",
     "collapsed": false,
     "input": [
      "import power_control\n",
      "reload(power_control)\n",
      "power_control.findInterference(p,0)"
     ],
     "language": "python",
     "metadata": {},
     "outputs": [
      {
       "metadata": {},
       "output_type": "pyout",
       "prompt_number": 14,
       "text": [
        "0.752"
       ]
      }
     ],
     "prompt_number": 14
    },
    {
     "cell_type": "code",
     "collapsed": false,
     "input": [],
     "language": "python",
     "metadata": {},
     "outputs": []
    }
   ],
   "metadata": {}
  }
 ]
}